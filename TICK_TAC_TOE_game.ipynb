{
 "cells": [
  {
   "cell_type": "code",
   "execution_count": 1,
   "metadata": {},
   "outputs": [],
   "source": [
    "from IPython.display import clear_output\n",
    "\n",
    "def display_board(board):\n",
    "    clear_output()\n",
    "    print(\"Tick-Tac-Toe\")\n",
    "    print(f\"{board[1]} | {board[2]} | {board[3]}\\n\",end='')\n",
    "    print(\"---------\")\n",
    "    print(f\"{board[4]} | {board[5]} | {board[6]}\\n\",end='')\n",
    "    print(\"---------\")\n",
    "    print(f\"{board[7]} | {board[8]} | {board[9]}\\n\",end='')\n",
    "    print(\"\\n\") "
   ]
  },
  {
   "cell_type": "code",
   "execution_count": 2,
   "metadata": {},
   "outputs": [],
   "source": [
    "def full_board_check(board):\n",
    "    for x in range(1,10):\n",
    "        if board[x]==' ':\n",
    "            return False\n",
    "    return True"
   ]
  },
  {
   "cell_type": "code",
   "execution_count": 3,
   "metadata": {},
   "outputs": [],
   "source": [
    "def space_check(board, position):\n",
    "    if board[position]==' ':\n",
    "        return True\n",
    "    else:\n",
    "        return False\n",
    "\n",
    "    import random "
   ]
  },
  {
   "cell_type": "code",
   "execution_count": 4,
   "metadata": {},
   "outputs": [],
   "source": [
    "import random\n",
    "\n",
    "def choose_first():\n",
    "    player=random.randint(1,2)\n",
    "    return player"
   ]
  },
  {
   "cell_type": "code",
   "execution_count": 5,
   "metadata": {},
   "outputs": [],
   "source": [
    "def player_input(num):\n",
    "    ans=''\n",
    "    while ans not in ['X','O']:\n",
    "        ans=input(f\"Player {num} ,Do you want to be 'X' or 'O': \").upper()\n",
    "        if ans.isdigit():\n",
    "            print(\"Oops! Please enter a valid input\")\n",
    "    if ans=='X':\n",
    "        s=('X','O')\n",
    "    else:\n",
    "        s=('O','X')\n",
    "    if num==1:\n",
    "        return s\n",
    "    else:\n",
    "        return s[::-1]"
   ]
  },
  {
   "cell_type": "code",
   "execution_count": 6,
   "metadata": {},
   "outputs": [],
   "source": [
    "def player_choice(board):\n",
    "    choose=True\n",
    "    n=''\n",
    "    while choose:\n",
    "        n=input(\"Enter you position(1-9): \")\n",
    "        \n",
    "        if n.isdigit():\n",
    "            n=int(n)\n",
    "            if n in range(1,10):\n",
    "                if space_check(board,n):\n",
    "                    choose=False\n",
    "                    return n\n",
    "                else:\n",
    "                    print(\"Oops! Enter an unoccupied position\")\n",
    "            else:\n",
    "                print(\"Oops! Please enter a valid integer(1-9)\")\n",
    "                \n",
    "        else:\n",
    "            print(\"Oops! Please enter only an integer(1-9)\")\n"
   ]
  },
  {
   "cell_type": "code",
   "execution_count": 7,
   "metadata": {},
   "outputs": [],
   "source": [
    "def place_marker(board, marker, position):\n",
    "    board[position]=marker"
   ]
  },
  {
   "cell_type": "code",
   "execution_count": 8,
   "metadata": {},
   "outputs": [],
   "source": [
    "def win_check(board, mark):\n",
    "    if board[1]==board[2]==board[3]==mark or board[3]==board[6]==board[9]==mark or board[2]==board[5]==board[8]==mark or board[1]==board[4]==board[7]==mark or board[4]==board[5]==board[6]==mark or board[7]==board[8]==board[9]==mark or board[1]==board[5]==board[9]==mark or board[3]==board[5]==board[7]==mark:\n",
    "        return True\n",
    "    else:\n",
    "        return False"
   ]
  },
  {
   "cell_type": "code",
   "execution_count": 9,
   "metadata": {},
   "outputs": [],
   "source": [
    "def who_won_middle():\n",
    "    if win_check(test_board, player_1):\n",
    "        return True\n",
    "    elif win_check(test_board,player_2):\n",
    "        return True\n",
    "    else:\n",
    "        return False"
   ]
  },
  {
   "cell_type": "code",
   "execution_count": 10,
   "metadata": {},
   "outputs": [],
   "source": [
    "def who_won():\n",
    "    if win_check(test_board, player_1):\n",
    "        print(\"Hurray! Player 1 has won the game\")\n",
    "    elif win_check(test_board,player_2):\n",
    "        print(\"Hurray! Player 2 has won the game\")\n",
    "    else:\n",
    "        print(\"Oops! Its a draw\")\n"
   ]
  },
  {
   "cell_type": "code",
   "execution_count": 11,
   "metadata": {},
   "outputs": [],
   "source": [
    "def replay():\n",
    "    replay_condition=True\n",
    "    n=''\n",
    "    choosen=True\n",
    "    while choosen:\n",
    "        n=input(\"Do you want to play again(Yes or No) :\").lower()\n",
    "        if n in ['yes','no']:\n",
    "                if(n=='no'):\n",
    "                    replay_condition=False\n",
    "                return replay_condition\n",
    "        else:\n",
    "            print(\"Oops! Please enter a valid option (Yes or No)\")"
   ]
  },
  {
   "cell_type": "code",
   "execution_count": 12,
   "metadata": {},
   "outputs": [],
   "source": [
    "def turn(num,marker):\n",
    "    print(f\"Player {first}:\")\n",
    "    choice=player_choice(test_board)#take the players choice and assign in the board if it the position is free\n",
    "    place_marker(test_board, marker, choice)\n",
    "    display_board(test_board)#Display the board\n",
    "    won=who_won_middle()#Check if the game is over\n",
    "    if won:\n",
    "        return True"
   ]
  },
  {
   "cell_type": "code",
   "execution_count": 14,
   "metadata": {},
   "outputs": [
    {
     "name": "stdout",
     "output_type": "stream",
     "text": [
      "Thanks for playing :)\n"
     ]
    }
   ],
   "source": [
    "from IPython.display import clear_output\n",
    "print('Welcome to Tic Tac Toe!')\n",
    "replay_again=True\n",
    "while replay_again:\n",
    "    # create a empty board\n",
    "    test_board = [' ']*10\n",
    "    # choose one player randomly and assign their interested symbol \n",
    "    first=choose_first()\n",
    "    print(f\"Player {first} will start the game!!!\")\n",
    "    if first==1:\n",
    "        second=2\n",
    "    else:\n",
    "        second=1\n",
    "    player_1,player_2=player_input(first)\n",
    "    display_board(test_board)\n",
    "    \n",
    "    while not full_board_check(test_board):\n",
    "        #1st Player's Turn\n",
    "        if first==1:\n",
    "            result=turn(first,player_1)\n",
    "        else:\n",
    "            result=turn(first,player_2)\n",
    "        if result:# checks if the game is over\n",
    "            break\n",
    "            \n",
    "        # 2nd Player's turn.\n",
    "        if not full_board_check(test_board):\n",
    "            if second==2:\n",
    "                result=turn(second,player_2)\n",
    "            else:\n",
    "                result=turn(second,player_1)\n",
    "        if result:\n",
    "            break\n",
    "    who_won()# check the status of the game\n",
    "    if not replay():# ask if the they want to play again\n",
    "        replay_again=False\n",
    "    clear_output()\n",
    "print(\"Thanks for playing:)\")"
   ]
  },
  {
   "cell_type": "code",
   "execution_count": null,
   "metadata": {},
   "outputs": [],
   "source": []
  }
 ],
 "metadata": {
  "kernelspec": {
   "display_name": "Python 3",
   "language": "python",
   "name": "python3"
  },
  "language_info": {
   "codemirror_mode": {
    "name": "ipython",
    "version": 3
   },
   "file_extension": ".py",
   "mimetype": "text/x-python",
   "name": "python",
   "nbconvert_exporter": "python",
   "pygments_lexer": "ipython3",
   "version": "3.7.6"
  }
 },
 "nbformat": 4,
 "nbformat_minor": 4
}
